{
 "cells": [
  {
   "cell_type": "code",
   "execution_count": 18,
   "id": "36045018",
   "metadata": {},
   "outputs": [],
   "source": [
    "import pandas as pd\n",
    "import numpy as np\n",
    "from sklearn.model_selection import train_test_split\n",
    "\n",
    "# Path to the raw CSV\n",
    "los_csv = \"../data/raw/kaggle-hospital-los/hospital_length_of_stay.csv\"\n"
   ]
  },
  {
   "cell_type": "code",
   "execution_count": 19,
   "id": "166c2c34",
   "metadata": {},
   "outputs": [
    {
     "name": "stdout",
     "output_type": "stream",
     "text": [
      "Shape: (100000, 28)\n",
      "Columns: ['eid', 'vdate', 'rcount', 'gender', 'dialysisrenalendstage', 'asthma', 'irondef', 'pneum', 'substancedependence', 'psychologicaldisordermajor', 'depress', 'psychother', 'fibrosisandother', 'malnutrition', 'hemo', 'hematocrit', 'neutrophils', 'sodium', 'glucose', 'bloodureanitro', 'creatinine', 'bmi', 'pulse', 'respiration', 'secondarydiagnosisnonicd9', 'discharged', 'facid', 'lengthofstay']\n",
      "\n",
      "Missing values per column:\n",
      " eid                           0\n",
      "vdate                         0\n",
      "rcount                        0\n",
      "gender                        0\n",
      "dialysisrenalendstage         0\n",
      "asthma                        0\n",
      "irondef                       0\n",
      "pneum                         0\n",
      "substancedependence           0\n",
      "psychologicaldisordermajor    0\n",
      "depress                       0\n",
      "psychother                    0\n",
      "fibrosisandother              0\n",
      "malnutrition                  0\n",
      "hemo                          0\n",
      "hematocrit                    0\n",
      "neutrophils                   0\n",
      "sodium                        0\n",
      "glucose                       0\n",
      "bloodureanitro                0\n",
      "creatinine                    0\n",
      "bmi                           0\n",
      "pulse                         0\n",
      "respiration                   0\n",
      "secondarydiagnosisnonicd9     0\n",
      "discharged                    0\n",
      "facid                         0\n",
      "lengthofstay                  0\n",
      "dtype: int64\n"
     ]
    }
   ],
   "source": [
    "# Load the data\n",
    "df = pd.read_csv(los_csv)\n",
    "\n",
    "# Show shape and columns\n",
    "print(\"Shape:\", df.shape)\n",
    "print(\"Columns:\", df.columns.tolist())\n",
    "\n",
    "# Summarize missing values\n",
    "missing = df.isnull().sum()\n",
    "print(\"\\nMissing values per column:\\n\", missing)\n"
   ]
  },
  {
   "cell_type": "code",
   "execution_count": 20,
   "id": "2fab309d",
   "metadata": {},
   "outputs": [],
   "source": [
    "df['vdate'] = pd.to_datetime(df['vdate'])\n",
    "df['year']  = df['vdate'].dt.year\n",
    "df['month'] = df['vdate'].dt.month\n",
    "df['day']   = df['vdate'].dt.day\n"
   ]
  },
  {
   "cell_type": "code",
   "execution_count": 21,
   "id": "a97ffa7e",
   "metadata": {},
   "outputs": [],
   "source": [
    "# Map gender strings to binary\n",
    "df['gender'] = df['gender'].map({'M': 1, 'F': 0})\n",
    "\n",
    "# Confirm no nulls introduced\n",
    "assert df['gender'].isnull().sum() == 0\n"
   ]
  },
  {
   "cell_type": "code",
   "execution_count": 22,
   "id": "2aac2b5e",
   "metadata": {},
   "outputs": [
    {
     "name": "stdout",
     "output_type": "stream",
     "text": [
      "Binary columns cast to int: ['gender', 'dialysisrenalendstage', 'asthma', 'irondef', 'pneum', 'substancedependence', 'psychologicaldisordermajor', 'depress', 'psychother', 'fibrosisandother', 'malnutrition', 'hemo']\n",
      "Remaining columns after drop: ['rcount', 'gender', 'dialysisrenalendstage', 'asthma', 'irondef', 'pneum', 'substancedependence', 'psychologicaldisordermajor', 'depress', 'psychother', 'fibrosisandother', 'malnutrition', 'hemo', 'hematocrit', 'neutrophils', 'sodium', 'glucose', 'bloodureanitro', 'creatinine', 'bmi', 'pulse', 'respiration', 'secondarydiagnosisnonicd9', 'discharged', 'lengthofstay', 'year', 'month', 'day']\n"
     ]
    }
   ],
   "source": [
    "# 1. Auto-cast numeric binary columns (excluding target and discharge flag)\n",
    "bin_cols = [\n",
    "    c for c in df.columns\n",
    "    if df[c].dtype in ['int64', 'float64']\n",
    "    and df[c].nunique() == 2\n",
    "    and c not in ['lengthofstay', 'discharged']\n",
    "]\n",
    "for c in bin_cols:\n",
    "    df[c] = df[c].astype(int)\n",
    "\n",
    "print(\"Binary columns cast to int:\", bin_cols)\n",
    "\n",
    "# 2. Drop identifier and original date columns\n",
    "df = df.drop(columns=['eid', 'facid', 'vdate'])\n",
    "\n",
    "print(\"Remaining columns after drop:\", df.columns.tolist())\n"
   ]
  },
  {
   "cell_type": "code",
   "execution_count": 23,
   "id": "4e7d864e",
   "metadata": {},
   "outputs": [
    {
     "name": "stdout",
     "output_type": "stream",
     "text": [
      "X_train shape: (80000, 27)\n",
      "X_test  shape: (20000, 27)\n",
      "y_train shape: (80000,)\n",
      "y_test  shape: (20000,)\n",
      "Processed files saved to data/processed/\n"
     ]
    }
   ],
   "source": [
    "from sklearn.model_selection import train_test_split\n",
    "\n",
    "# 1. Define features (X) and target (y)\n",
    "X = df.drop(columns=['lengthofstay'])\n",
    "y = df['lengthofstay']\n",
    "\n",
    "# 2. Perform an 80/20 train-test split\n",
    "X_train, X_test, y_train, y_test = train_test_split(\n",
    "    X,\n",
    "    y,\n",
    "    test_size=0.2,\n",
    "    random_state=42\n",
    ")\n",
    "\n",
    "print(\"X_train shape:\", X_train.shape)\n",
    "print(\"X_test  shape:\", X_test.shape)\n",
    "print(\"y_train shape:\", y_train.shape)\n",
    "print(\"y_test  shape:\", y_test.shape)\n",
    "\n",
    "# 3. Create processed data directories if they don't exist\n",
    "import os\n",
    "os.makedirs(\"../data/processed\", exist_ok=True)\n",
    "\n",
    "# 4. Save to CSV\n",
    "X_train.to_csv(\"../data/processed/X_train.csv\", index=False)\n",
    "X_test.to_csv(\"../data/processed/X_test.csv\", index=False)\n",
    "y_train.to_csv(\"../data/processed/y_train.csv\", index=False)\n",
    "y_test.to_csv(\"../data/processed/y_test.csv\", index=False)\n",
    "\n",
    "print(\"Processed files saved to data/processed/\")\n"
   ]
  },
  {
   "cell_type": "code",
   "execution_count": 24,
   "id": "63641897",
   "metadata": {},
   "outputs": [
    {
     "name": "stdout",
     "output_type": "stream",
     "text": [
      "Categorical columns to encode: ['rcount', 'discharged']\n",
      "After encoding, X_train shape: (80000, 407)\n",
      "After encoding, X_test  shape: (20000, 407)\n"
     ]
    }
   ],
   "source": [
    "# --- BEGIN PATCH FOR CATEGORICAL ENCODING ---\n",
    "\n",
    "# 1. Identify object-dtype columns\n",
    "cat_cols = X_train.select_dtypes(include=['object']).columns.tolist()\n",
    "print(\"Categorical columns to encode:\", cat_cols)\n",
    "\n",
    "# 2. One-hot encode train and test, dropping the first level to avoid collinearity\n",
    "X_train_enc = pd.get_dummies(X_train, columns=cat_cols, drop_first=True)\n",
    "X_test_enc  = pd.get_dummies(X_test,  columns=cat_cols, drop_first=True)\n",
    "\n",
    "# 3. Align train/test so they have the same dummy columns\n",
    "X_train_enc, X_test_enc = X_train_enc.align(\n",
    "    X_test_enc, join='left', axis=1, fill_value=0\n",
    ")\n",
    "\n",
    "print(\"After encoding, X_train shape:\", X_train_enc.shape)\n",
    "print(\"After encoding, X_test  shape:\", X_test_enc.shape)\n",
    "\n",
    "# Replace X_train/X_test with the encoded versions\n",
    "X_train = X_train_enc\n",
    "X_test  = X_test_enc\n"
   ]
  }
 ],
 "metadata": {
  "kernelspec": {
   "display_name": ".venv",
   "language": "python",
   "name": "python3"
  },
  "language_info": {
   "codemirror_mode": {
    "name": "ipython",
    "version": 3
   },
   "file_extension": ".py",
   "mimetype": "text/x-python",
   "name": "python",
   "nbconvert_exporter": "python",
   "pygments_lexer": "ipython3",
   "version": "3.13.0"
  }
 },
 "nbformat": 4,
 "nbformat_minor": 5
}
